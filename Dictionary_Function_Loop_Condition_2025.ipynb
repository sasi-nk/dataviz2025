{
  "nbformat": 4,
  "nbformat_minor": 0,
  "metadata": {
    "kernelspec": {
      "display_name": "Python 3",
      "language": "python",
      "name": "python3"
    },
    "language_info": {
      "codemirror_mode": {
        "name": "ipython",
        "version": 3
      },
      "file_extension": ".py",
      "mimetype": "text/x-python",
      "name": "python",
      "nbconvert_exporter": "python",
      "pygments_lexer": "ipython3",
      "version": "3.7.4"
    },
    "colab": {
      "provenance": [],
      "toc_visible": true,
      "include_colab_link": true
    }
  },
  "cells": [
    {
      "cell_type": "markdown",
      "metadata": {
        "id": "view-in-github",
        "colab_type": "text"
      },
      "source": [
        "<a href=\"https://colab.research.google.com/github/sasi-nk/dataviz2025/blob/main/Dictionary_Function_Loop_Condition_2025.ipynb\" target=\"_parent\"><img src=\"https://colab.research.google.com/assets/colab-badge.svg\" alt=\"Open In Colab\"/></a>"
      ]
    },
    {
      "cell_type": "markdown",
      "source": [
        "HW1 note"
      ],
      "metadata": {
        "id": "2wnVRxt7Qw8x"
      }
    },
    {
      "cell_type": "code",
      "source": [
        "inp = '12:30:15-13:41:07'\n",
        "inp_list = inp.split('-')\n",
        "inp_list"
      ],
      "metadata": {
        "colab": {
          "base_uri": "https://localhost:8080/"
        },
        "id": "7b9PZ1gTQ0EA",
        "outputId": "b9f21012-312d-450a-dec1-1ecc4893a91c"
      },
      "execution_count": null,
      "outputs": [
        {
          "output_type": "execute_result",
          "data": {
            "text/plain": [
              "['12:30:15', '13:41:07']"
            ]
          },
          "metadata": {},
          "execution_count": 1
        }
      ]
    },
    {
      "cell_type": "markdown",
      "source": [
        "#Dictionary"
      ],
      "metadata": {
        "id": "lb9ZxXBNSqQS"
      }
    },
    {
      "cell_type": "code",
      "source": [
        "dict_a = {'abc':123, 'def':456, 'ghi':789}"
      ],
      "metadata": {
        "id": "Wz6G-zuWSPgz"
      },
      "execution_count": null,
      "outputs": []
    },
    {
      "cell_type": "code",
      "source": [
        "dict_a"
      ],
      "metadata": {
        "colab": {
          "base_uri": "https://localhost:8080/"
        },
        "id": "-CetFWqXSxGK",
        "outputId": "69910952-3183-41a1-dbc8-7b0cf200d31b"
      },
      "execution_count": null,
      "outputs": [
        {
          "output_type": "execute_result",
          "data": {
            "text/plain": [
              "{'abc': 123, 'def': 456, 'ghi': 789}"
            ]
          },
          "metadata": {},
          "execution_count": 2
        }
      ]
    },
    {
      "cell_type": "code",
      "source": [
        "# เรียกค่าออกมาจาก dict\n",
        "# dict จะเรียกไม่เหมือน list เพราะไม่มีลำดับ\n",
        "dict_a['def']"
      ],
      "metadata": {
        "colab": {
          "base_uri": "https://localhost:8080/"
        },
        "id": "GB32RZgrS4Gi",
        "outputId": "738236f2-16cc-42c1-aea6-7c788e4a1c90"
      },
      "execution_count": null,
      "outputs": [
        {
          "output_type": "execute_result",
          "data": {
            "text/plain": [
              "456"
            ]
          },
          "metadata": {},
          "execution_count": 4
        }
      ]
    },
    {
      "cell_type": "code",
      "source": [
        "dict_b = {}"
      ],
      "metadata": {
        "id": "IMWPk4qBTYXB"
      },
      "execution_count": null,
      "outputs": []
    },
    {
      "cell_type": "code",
      "source": [
        "dict_b['a'] =123"
      ],
      "metadata": {
        "id": "ry3RZtzmTh7A"
      },
      "execution_count": null,
      "outputs": []
    },
    {
      "cell_type": "code",
      "source": [
        "dict_b"
      ],
      "metadata": {
        "colab": {
          "base_uri": "https://localhost:8080/"
        },
        "id": "PwIUwaoaTqHi",
        "outputId": "9a810d77-ce7a-4c89-9007-241320241ac3"
      },
      "execution_count": null,
      "outputs": [
        {
          "output_type": "execute_result",
          "data": {
            "text/plain": [
              "{'a': 123}"
            ]
          },
          "metadata": {},
          "execution_count": 7
        }
      ]
    },
    {
      "cell_type": "code",
      "source": [
        "dict_b['a'] = 567"
      ],
      "metadata": {
        "id": "x0slkBN3T5JC"
      },
      "execution_count": null,
      "outputs": []
    },
    {
      "cell_type": "code",
      "source": [
        "# add ค่าใหม่เข้ามาแล้ว ค่าเก่าจะหายไป\n",
        "dict_b"
      ],
      "metadata": {
        "colab": {
          "base_uri": "https://localhost:8080/"
        },
        "id": "zZHCHb_1UB1R",
        "outputId": "67565e1f-2db1-4b3c-d76c-544085d5c362"
      },
      "execution_count": null,
      "outputs": [
        {
          "output_type": "execute_result",
          "data": {
            "text/plain": [
              "{'a': 567}"
            ]
          },
          "metadata": {},
          "execution_count": 9
        }
      ]
    },
    {
      "cell_type": "markdown",
      "source": [
        "## การ add สมาชิกเข้าไปใน dict"
      ],
      "metadata": {
        "id": "iDr4JneSUOSq"
      }
    },
    {
      "cell_type": "code",
      "source": [
        "if 'b' not in dict_b:\n",
        "    dict_b['b'] = 123"
      ],
      "metadata": {
        "id": "0QsFIBwFUVoq"
      },
      "execution_count": null,
      "outputs": []
    },
    {
      "cell_type": "code",
      "source": [
        "dict_b"
      ],
      "metadata": {
        "colab": {
          "base_uri": "https://localhost:8080/"
        },
        "id": "_-4qkCokUhpC",
        "outputId": "ac1d8841-5b60-4240-ce31-512dc55df2d3"
      },
      "execution_count": null,
      "outputs": [
        {
          "output_type": "execute_result",
          "data": {
            "text/plain": [
              "{'a': 567, 'b': 123}"
            ]
          },
          "metadata": {},
          "execution_count": 11
        }
      ]
    },
    {
      "cell_type": "markdown",
      "metadata": {
        "id": "-57L9aVubPqU"
      },
      "source": [
        "# Function"
      ]
    },
    {
      "cell_type": "markdown",
      "metadata": {
        "id": "1DNzYhO4bPqb"
      },
      "source": [
        "## Function template\n",
        "#### ทำหน้าที่รับ input มาประมวณผลออกมาเป็น output\n",
        "#### f(x) = y"
      ]
    },
    {
      "cell_type": "markdown",
      "metadata": {
        "id": "3Nv1ZDEKbPqc"
      },
      "source": [
        "### def คือการกำหนดฟังก์ชัน"
      ]
    },
    {
      "cell_type": "markdown",
      "metadata": {
        "id": "DbHDoWEabPqc"
      },
      "source": [
        "```python\n",
        "    def function_name(_Input_) :\n",
        "        do_something with _Input_ to get _Output_\n",
        "        return _Output_\n",
        "```"
      ]
    },
    {
      "cell_type": "markdown",
      "metadata": {
        "id": "1fuimreqpVhU"
      },
      "source": [
        "เราใช้ เว้นวรรค (indent) เพื่อบอกขอบเขตของโปรแกรม"
      ]
    },
    {
      "cell_type": "markdown",
      "metadata": {
        "id": "kh2M1smCl5Iv"
      },
      "source": [
        "function มีส่วนสำคัญทั้งหมด 4 ส่วน\n",
        "\n",
        "1.   บอก python ว่าเราจะเขียนฟังก์ชั่น ชื่ออะไร  ```def function_name():``` (ขาดไม่ได้ ถ้าขาดจะ error)\n",
        "2.   กำหนดตัวแปรที่จะเป็น input  ```_Input_``` (ขาดได้)\n",
        "3.   ส่วนประมวลผล ```do_something with _Input_ to get _Output_``` (ขาดไม่ได้)\n",
        "4.   ส่วน output ```return _Output_```(ขาดได้)\n",
        "\n"
      ]
    },
    {
      "cell_type": "markdown",
      "metadata": {
        "id": "lqWzVN5AbPqc"
      },
      "source": [
        "#### ตัวอย่างการเขียน normal function\n"
      ]
    },
    {
      "cell_type": "code",
      "source": [
        "def print_myname():   # ตัวอย่าง function ที่ไม่มีทั้ง input และ output\n",
        "    print('Thanapong')"
      ],
      "metadata": {
        "id": "6wzfVo_pTefO"
      },
      "execution_count": null,
      "outputs": []
    },
    {
      "cell_type": "code",
      "source": [
        "print_myname()"
      ],
      "metadata": {
        "colab": {
          "base_uri": "https://localhost:8080/"
        },
        "id": "482E9UnsUMkC",
        "outputId": "03145225-1957-4373-a374-31f7b5cf1d6e"
      },
      "execution_count": null,
      "outputs": [
        {
          "output_type": "stream",
          "name": "stdout",
          "text": [
            "Thanapong\n"
          ]
        }
      ]
    },
    {
      "cell_type": "code",
      "source": [
        "def print_name(name): # ตัวอย่าง funtion ที่มีครบทุกส่วน\n",
        "  st = f'ชื่อ {name}'\n",
        "  return st"
      ],
      "metadata": {
        "id": "BN91ZjQzWrsa"
      },
      "execution_count": null,
      "outputs": []
    },
    {
      "cell_type": "code",
      "source": [
        "print_name('stat')"
      ],
      "metadata": {
        "colab": {
          "base_uri": "https://localhost:8080/",
          "height": 35
        },
        "id": "WV129RyrXGUK",
        "outputId": "cebe64b8-8c21-41af-9547-1be729fb99d8"
      },
      "execution_count": null,
      "outputs": [
        {
          "output_type": "execute_result",
          "data": {
            "text/plain": [
              "'ชื่อ stat'"
            ],
            "application/vnd.google.colaboratory.intrinsic+json": {
              "type": "string"
            }
          },
          "metadata": {},
          "execution_count": 22
        }
      ]
    },
    {
      "cell_type": "code",
      "source": [
        "a = print_name('stat')\n",
        "a"
      ],
      "metadata": {
        "colab": {
          "base_uri": "https://localhost:8080/",
          "height": 35
        },
        "id": "dqPKRhF_XV3E",
        "outputId": "50d02f71-bf84-4e56-c266-3eb26ba451b0"
      },
      "execution_count": null,
      "outputs": [
        {
          "output_type": "execute_result",
          "data": {
            "text/plain": [
              "'ชื่อ stat'"
            ],
            "application/vnd.google.colaboratory.intrinsic+json": {
              "type": "string"
            }
          },
          "metadata": {},
          "execution_count": 23
        }
      ]
    },
    {
      "cell_type": "code",
      "metadata": {
        "id": "n706WULobPqc"
      },
      "source": [
        "def print_fullname(surname,ID,name):        # ตัวอย่าง function ที่ มี input หลายตัว กับ output 1 ตัว\n",
        "    st = f'ชื่อ {name} นามสกุล {surname} รหัส {ID}'\n",
        "    return st"
      ],
      "execution_count": null,
      "outputs": []
    },
    {
      "cell_type": "code",
      "metadata": {
        "colab": {
          "base_uri": "https://localhost:8080/",
          "height": 35
        },
        "id": "muh0pi_Gkym8",
        "outputId": "e498124b-2ae5-4823-ffbe-4cda1cecfda1"
      },
      "source": [
        "print_fullname('อินทระ','66xxxxxx','ธนพงศ์')"
      ],
      "execution_count": null,
      "outputs": [
        {
          "output_type": "execute_result",
          "data": {
            "text/plain": [
              "'ชื่อ ธนพงศ์ นามสกุล อินทระ รหัส 66xxxxxx'"
            ],
            "application/vnd.google.colaboratory.intrinsic+json": {
              "type": "string"
            }
          },
          "metadata": {},
          "execution_count": 27
        }
      ]
    },
    {
      "cell_type": "code",
      "source": [
        "print_fullname(name='ศศิกานต์',surname='ทิพย์สูงเนิน',ID='663020297-1')"
      ],
      "metadata": {
        "colab": {
          "base_uri": "https://localhost:8080/",
          "height": 35
        },
        "id": "vxooaHuHVTDJ",
        "outputId": "21136857-32bd-4ccf-fe5a-1c500912a2f6"
      },
      "execution_count": null,
      "outputs": [
        {
          "output_type": "execute_result",
          "data": {
            "text/plain": [
              "'ชื่อ ศศิกานต์ นามสกุล ทิพย์สูงเนิน รหัส 663020297-1'"
            ],
            "application/vnd.google.colaboratory.intrinsic+json": {
              "type": "string"
            }
          },
          "metadata": {},
          "execution_count": 29
        }
      ]
    },
    {
      "cell_type": "markdown",
      "metadata": {
        "id": "tSV-FUQBpx0i"
      },
      "source": [
        "ฟังก์ชั่นไม่จำเป็นต้องมี output"
      ]
    },
    {
      "cell_type": "code",
      "metadata": {
        "id": "loNAFSvLo5dC"
      },
      "source": [
        "def print_fullname2(surname,ID,name):\n",
        "    st = f'ชื่อ {name} นามสกุล {surname} รหัส {ID}'\n",
        "    print(st)"
      ],
      "execution_count": null,
      "outputs": []
    },
    {
      "cell_type": "code",
      "metadata": {
        "colab": {
          "base_uri": "https://localhost:8080/"
        },
        "id": "JE88oCj8o_j_",
        "outputId": "153a4a26-20ae-4a75-a2ba-a0706ae82258"
      },
      "source": [
        "print_fullname2(name='กาญจนา',surname='ประสาคุณ',ID='603021855-2')"
      ],
      "execution_count": null,
      "outputs": [
        {
          "output_type": "stream",
          "name": "stdout",
          "text": [
            "ชื่อ กาญจนา นามสกุล ประสาคุณ รหัส 603021855-2\n"
          ]
        }
      ]
    },
    {
      "cell_type": "markdown",
      "source": [
        "### ข้อแตกต่างระหว่าง function ที่มีและไม่มี output"
      ],
      "metadata": {
        "id": "dW328wxLWauv"
      }
    },
    {
      "cell_type": "code",
      "source": [
        "out_printname1 = print_fullname(name='กาญจนา',surname='ประสาคุณ',ID='603021855-2') # มี output\n",
        "print(out_printname1)"
      ],
      "metadata": {
        "colab": {
          "base_uri": "https://localhost:8080/"
        },
        "id": "Ae6C6-DTWFOD",
        "outputId": "1da2d07d-cde8-471d-927d-903f0aa5ed21"
      },
      "execution_count": null,
      "outputs": [
        {
          "output_type": "stream",
          "name": "stdout",
          "text": [
            "ชื่อ กาญจนา นามสกุล ประสาคุณ รหัส 603021855-2\n"
          ]
        }
      ]
    },
    {
      "cell_type": "code",
      "source": [
        "out_printname1"
      ],
      "metadata": {
        "colab": {
          "base_uri": "https://localhost:8080/",
          "height": 35
        },
        "id": "yPtH94N0WtsE",
        "outputId": "a983480d-d1f8-4174-c1ca-bbb6a382f687"
      },
      "execution_count": null,
      "outputs": [
        {
          "output_type": "execute_result",
          "data": {
            "text/plain": [
              "'ชื่อ กาญจนา นามสกุล ประสาคุณ รหัส 603021855-2'"
            ],
            "application/vnd.google.colaboratory.intrinsic+json": {
              "type": "string"
            }
          },
          "metadata": {},
          "execution_count": 33
        }
      ]
    },
    {
      "cell_type": "code",
      "source": [
        "out_printname2 = print_fullname2(name='กาญจนา',surname='ประสาคุณ',ID='603021855-2')  # ไม่มี output"
      ],
      "metadata": {
        "colab": {
          "base_uri": "https://localhost:8080/"
        },
        "id": "AbT5pKVYWRBn",
        "outputId": "846529d8-3365-48ef-c0ef-b23eb442c951"
      },
      "execution_count": null,
      "outputs": [
        {
          "output_type": "stream",
          "name": "stdout",
          "text": [
            "ชื่อ กาญจนา นามสกุล ประสาคุณ รหัส 603021855-2\n"
          ]
        }
      ]
    },
    {
      "cell_type": "code",
      "source": [
        "print(out_printname2)"
      ],
      "metadata": {
        "id": "l_fW68dyXDw3",
        "colab": {
          "base_uri": "https://localhost:8080/"
        },
        "outputId": "cb4b0ca5-3108-487c-e641-6d31b48e324a"
      },
      "execution_count": null,
      "outputs": [
        {
          "output_type": "stream",
          "name": "stdout",
          "text": [
            "None\n"
          ]
        }
      ]
    },
    {
      "cell_type": "markdown",
      "metadata": {
        "id": "JF4RdyEBqPyl"
      },
      "source": [
        "ฟังก์ชั่นไม่จำเป็นต้องมี input"
      ]
    },
    {
      "cell_type": "code",
      "metadata": {
        "id": "LNb_o_ZXo_gh"
      },
      "source": [
        "def Pi():\n",
        "    return 3.14159265359"
      ],
      "execution_count": null,
      "outputs": []
    },
    {
      "cell_type": "code",
      "metadata": {
        "colab": {
          "base_uri": "https://localhost:8080/"
        },
        "id": "htN6zLbFo_dr",
        "outputId": "5d0859fc-bdc2-45e4-d740-f744dd40b4b1"
      },
      "source": [
        "Pi()*(2**2) # หาพื้นที่ของวงกลมที่มีรัศมีเท่ากับ Pi * r^2"
      ],
      "execution_count": null,
      "outputs": [
        {
          "output_type": "execute_result",
          "data": {
            "text/plain": [
              "12.56637061436"
            ]
          },
          "metadata": {},
          "execution_count": 40
        }
      ]
    },
    {
      "cell_type": "markdown",
      "metadata": {
        "id": "ywc0Ho-_rUTu"
      },
      "source": [
        "## เราสามารถกำหนดค่า default ให้กับ input ของฟังก์ชั่นได้"
      ]
    },
    {
      "cell_type": "markdown",
      "metadata": {
        "id": "y_74dHkjxS7f"
      },
      "source": [
        "input ของ function ใน python มีสองแบบ input ที่จำเป็นต้องใส่ กับ input ที่ไม่จำเป็นต้องใส่ (มีค่า default)\n",
        "\n",
        "เราต้องเรียง input ที่จำเป็นต้องใส่ขึ้นก่อน"
      ]
    },
    {
      "cell_type": "code",
      "metadata": {
        "id": "0Lrh-6mAo_bA"
      },
      "source": [
        "def print_2lines_default(name,surname,ID,grade='F'):\n",
        "    st = f'ชื่อ {name} นามสกุล {surname} รหัส {ID}'\n",
        "    print (st)\n",
        "    st2=f'เกรดวิชา Data Viz >>> {grade}'\n",
        "    print(st2)"
      ],
      "execution_count": null,
      "outputs": []
    },
    {
      "cell_type": "code",
      "metadata": {
        "colab": {
          "base_uri": "https://localhost:8080/"
        },
        "id": "ZH31VIjko_WP",
        "outputId": "69af2ad9-d2ff-42c9-9bea-be8993e7dd6d"
      },
      "source": [
        "print_2lines_default('ธันยาการต์','พวงมาลัย','613020551-8') # ไม่ได้ set default"
      ],
      "execution_count": null,
      "outputs": [
        {
          "output_type": "stream",
          "name": "stdout",
          "text": [
            "ชื่อ ธันยาการต์ นามสกุล พวงมาลัย รหัส 613020551-8\n",
            "เกรดวิชา Data Viz >>> F\n"
          ]
        }
      ]
    },
    {
      "cell_type": "code",
      "metadata": {
        "colab": {
          "base_uri": "https://localhost:8080/"
        },
        "id": "FKGr2Iyuo_S2",
        "outputId": "d234a400-0d45-4ff7-fa38-7c855293c4b3"
      },
      "source": [
        "print_2lines_default('ธันยาการต์','พวงมาลัย','613020551-8','A')"
      ],
      "execution_count": null,
      "outputs": [
        {
          "output_type": "stream",
          "name": "stdout",
          "text": [
            "ชื่อ ธันยาการต์ นามสกุล พวงมาลัย รหัส 613020551-8\n",
            "เกรดวิชา Data Viz >>> A\n"
          ]
        }
      ]
    },
    {
      "cell_type": "code",
      "source": [
        "print_2lines_default('ธันยาการต์','พวงมาลัย','613020551-8',grade = 'A')"
      ],
      "metadata": {
        "colab": {
          "base_uri": "https://localhost:8080/"
        },
        "id": "Au_P2Cm8ZDXL",
        "outputId": "65c4ce70-8031-4235-fc9d-351d9067e8d4"
      },
      "execution_count": null,
      "outputs": [
        {
          "output_type": "stream",
          "name": "stdout",
          "text": [
            "ชื่อ ธันยาการต์ นามสกุล พวงมาลัย รหัส 613020551-8\n",
            "เกรดวิชา Data Viz >>> A\n"
          ]
        }
      ]
    },
    {
      "cell_type": "code",
      "source": [
        "print_2lines_default('ธันยาการต์','พวงมาลัย') # ใส่ไม่ครบ"
      ],
      "metadata": {
        "colab": {
          "base_uri": "https://localhost:8080/",
          "height": 141
        },
        "id": "cLGa_pO1Zv1U",
        "outputId": "19e2fced-97bd-4cb3-a7ef-f418c76425bc"
      },
      "execution_count": null,
      "outputs": [
        {
          "output_type": "error",
          "ename": "TypeError",
          "evalue": "print_2lines_default() missing 1 required positional argument: 'ID'",
          "traceback": [
            "\u001b[0;31m---------------------------------------------------------------------------\u001b[0m",
            "\u001b[0;31mTypeError\u001b[0m                                 Traceback (most recent call last)",
            "\u001b[0;32m/tmp/ipython-input-46-2908973391.py\u001b[0m in \u001b[0;36m<cell line: 0>\u001b[0;34m()\u001b[0m\n\u001b[0;32m----> 1\u001b[0;31m \u001b[0mprint_2lines_default\u001b[0m\u001b[0;34m(\u001b[0m\u001b[0;34m'ธันยาการต์'\u001b[0m\u001b[0;34m,\u001b[0m\u001b[0;34m'พวงมาลัย'\u001b[0m\u001b[0;34m)\u001b[0m\u001b[0;34m\u001b[0m\u001b[0;34m\u001b[0m\u001b[0m\n\u001b[0m",
            "\u001b[0;31mTypeError\u001b[0m: print_2lines_default() missing 1 required positional argument: 'ID'"
          ]
        }
      ]
    },
    {
      "cell_type": "markdown",
      "source": [
        "# Quiz5\n",
        "เขียน function ของ HW2\n",
        "\n",
        "commit \"quiz5\""
      ],
      "metadata": {
        "id": "Alh7JMwDa1k1"
      }
    },
    {
      "cell_type": "code",
      "source": [
        "# 12:30:15, Wednesday - 13:41:07, Thursday\n",
        "# 12:53:15, Monday - 00:59:25, Tuesday\n",
        "# 16:06:09, Sunday - 11:11:11, Tuesday"
      ],
      "metadata": {
        "id": "F_DK1IVwa-WL"
      },
      "execution_count": null,
      "outputs": []
    },
    {
      "cell_type": "code",
      "source": [
        "def time_to_sec(time_str):\n",
        "    time_list = time_str.split(':')\n",
        "    time_sec = int(time_list[0])*3600 + int(time_list[1])*60 + int(time_list[2])\n",
        "    return time_sec\n",
        "\n",
        "\n",
        "data = [  \"12:30:15, Wednesday - 13:41:07, Thursday\",\n",
        "          \"12:53:15, Monday - 00:59:25, Tuesday\",\n",
        "          \"16:06:09, Sunday - 11:11:11, Tuesday\"\n",
        "]\n",
        "\n",
        "day_to_number = {\n",
        "    \"Monday\": 0,\n",
        "    \"Tuesday\": 1,\n",
        "    \"Wednesday\": 2,\n",
        "    \"Thursday\": 3,\n",
        "    \"Friday\": 4,\n",
        "    \"Saturday\": 5,\n",
        "    \"Sunday\": 6\n",
        "}"
      ],
      "metadata": {
        "id": "-bZAq18AbAzS"
      },
      "execution_count": null,
      "outputs": []
    },
    {
      "cell_type": "code",
      "source": [
        "# prompt: ช่วยเขียนฟังก์ชันในการคำนวณเวลาตามที่กำหนดมาเป็นวินาที\n",
        "\n",
        "def total_seconds(time_day_str):\n",
        "    time_str, day_str = time_day_str.split(', ')\n",
        "    seconds_in_day = time_to_sec(time_str)\n",
        "    day_number = day_to_number[day_str]\n",
        "    return (day_number - 1) * 24 * 3600 + seconds_in_day\n",
        "\n",
        "def calculate_time_difference(time_range_str):\n",
        "    start_time_day_str, end_time_day_str = time_range_str.split(' - ')\n",
        "    start_total_sec = total_seconds(start_time_day_str)\n",
        "    end_total_sec = total_seconds(end_time_day_str)\n",
        "\n",
        "    # Handle cases where the end time is on a later day\n",
        "    if end_total_sec < start_total_sec:\n",
        "         # Assume the week loops around, add 7 days worth of seconds to the end time\n",
        "         end_total_sec += 7 * 24 * 3600\n",
        "\n",
        "    return end_total_sec - start_total_sec\n",
        "\n",
        "for time_range in data:\n",
        "    difference_in_seconds = calculate_time_difference(time_range)\n",
        "    print(f\"เวลาที่คำนวณได้สำหรับ '{time_range}': {difference_in_seconds} วินาที\")"
      ],
      "metadata": {
        "colab": {
          "base_uri": "https://localhost:8080/"
        },
        "id": "MLSCGuZSbAsp",
        "outputId": "fb00396c-26b4-4af3-a836-ac6600eaeffa"
      },
      "execution_count": null,
      "outputs": [
        {
          "output_type": "stream",
          "name": "stdout",
          "text": [
            "เวลาที่คำนวณได้สำหรับ '12:30:15, Wednesday - 13:41:07, Thursday': 90652 วินาที\n",
            "เวลาที่คำนวณได้สำหรับ '12:53:15, Monday - 00:59:25, Tuesday': 43570 วินาที\n",
            "เวลาที่คำนวณได้สำหรับ '16:06:09, Sunday - 11:11:11, Tuesday': 155102 วินาที\n"
          ]
        }
      ]
    },
    {
      "cell_type": "code",
      "source": [],
      "metadata": {
        "id": "HHqJe2FOdDjp"
      },
      "execution_count": null,
      "outputs": []
    },
    {
      "cell_type": "markdown",
      "source": [
        "# Quiz6"
      ],
      "metadata": {
        "id": "GP0SdDg6f90T"
      }
    },
    {
      "cell_type": "markdown",
      "source": [
        "เขียน funtion ของ HW2 -> มีการใช้ค่า default ของ input โดยถ้าวันที่กรอกเป็นวันเดียวกันให้ไม่ต้องกรอกเลยหรือกรอกแค่ 1 ตัว\n",
        "\n",
        "commit \"quiz6\""
      ],
      "metadata": {
        "id": "ZOvUDSF4gFHj"
      }
    },
    {
      "cell_type": "code",
      "source": [
        "# prompt: ช่วยสร้างฟังก์ชันโดยมีการใช้ค่า default ของ input\n",
        "\n",
        "def calculate_time_difference_default(time_range_str, default_day=None):\n",
        "    start_time_day_str, end_time_day_str = time_range_str.split(' - ')\n",
        "\n",
        "    # Split time and day for the start\n",
        "    start_parts = start_time_day_str.split(', ')\n",
        "    start_time_str = start_parts[0]\n",
        "    start_day_str = start_parts[1] if len(start_parts) > 1 else default_day\n",
        "\n",
        "    # Split time and day for the end\n",
        "    end_parts = end_time_day_str.split(', ')\n",
        "    end_time_str = end_parts[0]\n",
        "    end_day_str = end_parts[1] if len(end_parts) > 1 else default_day\n",
        "\n",
        "    # If a default day was provided, use it for both if they were not explicitly given\n",
        "    if default_day is not None:\n",
        "        if len(start_parts) == 1:\n",
        "            start_day_str = default_day\n",
        "        if len(end_parts) == 1:\n",
        "            end_day_str = default_day\n",
        "\n",
        "    # Reconstruct the time_day strings with potentially defaulted days\n",
        "    start_time_day_str_full = f\"{start_time_str}, {start_day_str}\"\n",
        "    end_time_day_str_full = f\"{end_time_str}, {end_day_str}\"\n",
        "\n",
        "\n",
        "    start_total_sec = total_seconds(start_time_day_str_full)\n",
        "    end_total_sec = total_seconds(end_time_day_str_full)\n",
        "\n",
        "    # Handle cases where the end time is on a later day\n",
        "    if end_total_sec < start_total_sec:\n",
        "         # Assume the week loops around, add 7 days worth of seconds to the end time\n",
        "         end_total_sec += 7 * 24 * 3600\n",
        "\n",
        "    return end_total_sec - start_total_sec\n",
        "\n",
        "# Example usage with default day\n",
        "data_with_default = [\n",
        "    \"12:30:15, Wednesday - 13:41:07, Thursday\",\n",
        "    \"12:53:15, Monday - 00:59:25, Tuesday\",\n",
        "    \"16:06:09, Sunday - 11:11:11, Tuesday\"\n",
        "]\n",
        "\n",
        "for time_range in data_with_default:\n",
        "    # We can set the default day when calling the function\n",
        "    difference_in_seconds = calculate_time_difference_default(time_range, default_day='Wednesday')\n",
        "    print(f\"เวลาที่คำนวณได้สำหรับ '{time_range}': {difference_in_seconds} วินาที\")\n",
        "\n"
      ],
      "metadata": {
        "colab": {
          "base_uri": "https://localhost:8080/"
        },
        "id": "gvnY1uuqdDQS",
        "outputId": "5c468a75-57c8-4847-b2ea-3bacbde250d9"
      },
      "execution_count": null,
      "outputs": [
        {
          "output_type": "stream",
          "name": "stdout",
          "text": [
            "เวลาที่คำนวณได้สำหรับ '12:30:15, Wednesday - 13:41:07, Thursday': 90652 วินาที\n",
            "เวลาที่คำนวณได้สำหรับ '12:53:15, Monday - 00:59:25, Tuesday': 43570 วินาที\n",
            "เวลาที่คำนวณได้สำหรับ '16:06:09, Sunday - 11:11:11, Tuesday': 155102 วินาที\n"
          ]
        }
      ]
    },
    {
      "cell_type": "code",
      "source": [],
      "metadata": {
        "id": "8tSoQx_Sg-1k"
      },
      "execution_count": null,
      "outputs": []
    },
    {
      "cell_type": "code",
      "source": [
        "def cal_dif_secs(timeinput):\n",
        "    timelist = timeinput.split('-')\n",
        "    time1 = timelist[0].split(':')\n",
        "    time2 = timelist[1].split(':')\n",
        "    time1_sec = int(time1[0])*3600 + int(time1[1])*60 + int(time1[2])\n",
        "    time2_sec = int(time2[0])*3600 + int(time2[1])*60 + int(time2[2])\n",
        "    dif_sec = time2_sec - time1_sec\n",
        "    return dif_sec"
      ],
      "metadata": {
        "id": "Y_cPWPKzewFM"
      },
      "execution_count": null,
      "outputs": []
    },
    {
      "cell_type": "code",
      "source": [
        "cal_dif_secs('12:30:15-13:41:07')"
      ],
      "metadata": {
        "colab": {
          "base_uri": "https://localhost:8080/"
        },
        "id": "1lO3BaYJfUuF",
        "outputId": "e85344df-baad-4dd5-9955-684fd865cdfc"
      },
      "execution_count": null,
      "outputs": [
        {
          "output_type": "execute_result",
          "data": {
            "text/plain": [
              "4252"
            ]
          },
          "metadata": {},
          "execution_count": 19
        }
      ]
    },
    {
      "cell_type": "markdown",
      "source": [
        "# Quiz3.5\n",
        "\n",
        "รับ input 2 ตัว โดยตั้งค่า default time1 เป็น 00:00:00"
      ],
      "metadata": {
        "id": "GMMe5F1zgNV5"
      }
    },
    {
      "cell_type": "markdown",
      "source": [
        "## HW2\n",
        "\n",
        "วนลูป หา ช่วงเวลาเป็นวินาที ที่ห่างกันระหว่า time1 และ time2 ต่อไปนี้\n",
        "\n",
        "\n",
        "1. 18:09:10 - 18:25:10\n",
        "2. 13:38:39 - 23:54:39\n",
        "3. 16:49:58 - 18:05:58\n",
        "4. 21:49:10 - 22:24:10\n",
        "5. 08:52:21 - 09:25:21\n",
        "6. 06:56:26 - 07:49:26\n",
        "7. 12:08:05 - 12:43:05\n",
        "8. 01:48:38 - 07:18:38\n",
        "9. 08:51:21 - 10:17:21\n",
        "10. 17:05:17 - 18:09:17"
      ],
      "metadata": {
        "id": "Y60TMz5ijb_S"
      }
    },
    {
      "cell_type": "markdown",
      "source": [],
      "metadata": {
        "id": "dfOZZOjzj4Xj"
      }
    },
    {
      "cell_type": "markdown",
      "source": [
        "#inspect existing function\n",
        "\n",
        "- https://www.w3schools.com/python/ref_func_print.asp\n",
        "\n",
        "- https://scikit-learn.org/stable/modules/generated/sklearn.tree.DecisionTreeClassifier.html#sklearn.tree.DecisionTreeClassifier"
      ],
      "metadata": {
        "id": "kb25fxzpgXsp"
      }
    },
    {
      "cell_type": "code",
      "source": [
        "print('abc', 'def')"
      ],
      "metadata": {
        "id": "lhE86SIUa_Jt",
        "colab": {
          "base_uri": "https://localhost:8080/"
        },
        "outputId": "22a2b8a8-ca4c-45b6-da34-5abddaa8e202"
      },
      "execution_count": null,
      "outputs": [
        {
          "output_type": "stream",
          "name": "stdout",
          "text": [
            "abc def\n"
          ]
        }
      ]
    },
    {
      "cell_type": "code",
      "source": [
        "print('abc', 'def', sep='+')"
      ],
      "metadata": {
        "id": "_VDg-OyRa_Hh",
        "colab": {
          "base_uri": "https://localhost:8080/"
        },
        "outputId": "45c77d3f-c707-4d74-c086-c9ca7c160441"
      },
      "execution_count": null,
      "outputs": [
        {
          "output_type": "stream",
          "name": "stdout",
          "text": [
            "abc+def\n"
          ]
        }
      ]
    },
    {
      "cell_type": "code",
      "source": [],
      "metadata": {
        "id": "eSZh5ak-a_Ew"
      },
      "execution_count": null,
      "outputs": []
    },
    {
      "cell_type": "code",
      "source": [],
      "metadata": {
        "id": "AIuwSifNa_CC"
      },
      "execution_count": null,
      "outputs": []
    },
    {
      "cell_type": "code",
      "source": [],
      "metadata": {
        "id": "SItcrFAUa---"
      },
      "execution_count": null,
      "outputs": []
    },
    {
      "cell_type": "markdown",
      "metadata": {
        "id": "UB5fTAr3bPqg"
      },
      "source": [
        "# LOOP การวนซ้ำ"
      ]
    },
    {
      "cell_type": "markdown",
      "metadata": {
        "id": "gpIwjDjg0gfJ"
      },
      "source": [
        "for เป็นคำที่ใช้บอก python ว่าเรากำลังเขียน loop\n",
        "โดย for จะวนดึงสมาชิกจาก ```listA``` มาทำ process ```do_something```"
      ]
    },
    {
      "cell_type": "markdown",
      "metadata": {
        "id": "6XS2wO4_bPqg"
      },
      "source": [
        "```python\n",
        "    for each_member in listA :\n",
        "        do_something\n",
        "```"
      ]
    },
    {
      "cell_type": "markdown",
      "metadata": {
        "id": "d7kQ2AEcbPqg"
      },
      "source": [
        "#### คำสั่ง for เป็นคำสั่งวนซ้ำที่ใช้ควบคุมการทำงานซ้ำๆ ในจำนวนรอบที่แน่นอน"
      ]
    },
    {
      "cell_type": "code",
      "metadata": {
        "colab": {
          "base_uri": "https://localhost:8080/"
        },
        "id": "NcT-s7TEbPqg",
        "outputId": "ac8c13f3-2fbb-47b2-80f0-8a390a25caab"
      },
      "source": [
        "for i in [1,2,3] :\n",
        "    o = i**2\n",
        "    print (f'this member = {i} after process = {o}')"
      ],
      "execution_count": 1,
      "outputs": [
        {
          "output_type": "stream",
          "name": "stdout",
          "text": [
            "this member = 1 after process = 1\n",
            "this member = 2 after process = 4\n",
            "this member = 3 after process = 9\n"
          ]
        }
      ]
    },
    {
      "cell_type": "markdown",
      "metadata": {
        "id": "YbnFaiU2bPqg"
      },
      "source": [
        "#### ตัวอย่างการใช้คำสั่ง for ในการวนซ้ำค่าของ i เมื่อ i คือ 'Thanapong' และคำสั่ง print(f'{i} -> /') เพื่อกำหนดให้ผลลัพธ์แสดงสัญลักษณ์ -> /  จากนั้นเพิ่มคำสั่ง print(' ') อีกครั้งเพื่อให้ผลลัพธ์มีการเว้นวรรค¶"
      ]
    },
    {
      "cell_type": "code",
      "metadata": {
        "id": "kstoI_CEbPqh",
        "outputId": "a4b8beb9-6d16-41fe-9992-f51284d94c7e",
        "colab": {
          "base_uri": "https://localhost:8080/"
        }
      },
      "source": [
        "for i in 'Thanapong':\n",
        "    print(i, end =  '-> /\\n' )  #\\n ขึ้นบรรทัดใหม่"
      ],
      "execution_count": 2,
      "outputs": [
        {
          "output_type": "stream",
          "name": "stdout",
          "text": [
            "T-> /\n",
            "h-> /\n",
            "a-> /\n",
            "n-> /\n",
            "a-> /\n",
            "p-> /\n",
            "o-> /\n",
            "n-> /\n",
            "g-> /\n"
          ]
        }
      ]
    },
    {
      "cell_type": "code",
      "metadata": {
        "id": "mQmh0Ip-V8qR",
        "outputId": "0e01aa3e-f288-4865-d65d-2f2711066413",
        "colab": {
          "base_uri": "https://localhost:8080/"
        }
      },
      "source": [
        "for i in 'Thanapong':\n",
        "    print(f'{i} -> / ' ,end = '') #สั่งให้ print แบบ ไม่เว้นบรรทัด"
      ],
      "execution_count": null,
      "outputs": [
        {
          "output_type": "stream",
          "name": "stdout",
          "text": [
            "T -> / h -> / a -> / n -> / a -> / p -> / o -> / n -> / g -> / "
          ]
        }
      ]
    },
    {
      "cell_type": "markdown",
      "metadata": {
        "id": "3_I0IHOqXMIr"
      },
      "source": [
        "## สร้าง list ตัวเลขแบบอัตโนมัติ  range()"
      ]
    },
    {
      "cell_type": "code",
      "metadata": {
        "id": "ensAuLXBW-0P",
        "outputId": "a4f7d3bb-4fea-4a79-ba20-586a1b414225",
        "colab": {
          "base_uri": "https://localhost:8080/"
        }
      },
      "source": [
        "range5_output = range(5)\n",
        "print(list(range5_output))"
      ],
      "execution_count": 3,
      "outputs": [
        {
          "output_type": "stream",
          "name": "stdout",
          "text": [
            "[0, 1, 2, 3, 4]\n"
          ]
        }
      ]
    },
    {
      "cell_type": "code",
      "metadata": {
        "id": "r8JXggPKXrEx",
        "outputId": "1a125339-d7f9-4501-b498-dcbbaa4b215e",
        "colab": {
          "base_uri": "https://localhost:8080/"
        }
      },
      "source": [
        "for i in range(100):\n",
        "    print('งง',end=' ')"
      ],
      "execution_count": 4,
      "outputs": [
        {
          "output_type": "stream",
          "name": "stdout",
          "text": [
            "งง งง งง งง งง งง งง งง งง งง งง งง งง งง งง งง งง งง งง งง งง งง งง งง งง งง งง งง งง งง งง งง งง งง งง งง งง งง งง งง งง งง งง งง งง งง งง งง งง งง งง งง งง งง งง งง งง งง งง งง งง งง งง งง งง งง งง งง งง งง งง งง งง งง งง งง งง งง งง งง งง งง งง งง งง งง งง งง งง งง งง งง งง งง งง งง งง งง งง งง "
          ]
        }
      ]
    },
    {
      "cell_type": "code",
      "metadata": {
        "id": "RLvhNqw8YpKa",
        "outputId": "efd2b2b2-551a-48c3-81fe-d857fdabb6f9",
        "colab": {
          "base_uri": "https://localhost:8080/"
        }
      },
      "source": [
        "list(range(1,11)) #เริ่มต้นเป็นวงทึบ จบเป็นวงกลมโปร่ง เหมือน list slicing"
      ],
      "execution_count": 5,
      "outputs": [
        {
          "output_type": "execute_result",
          "data": {
            "text/plain": [
              "[1, 2, 3, 4, 5, 6, 7, 8, 9, 10]"
            ]
          },
          "metadata": {},
          "execution_count": 5
        }
      ]
    },
    {
      "cell_type": "code",
      "metadata": {
        "id": "MqXQ9NLGcW-r",
        "outputId": "5b1ca7ad-2773-4e83-b537-41fa6d0c5217",
        "colab": {
          "base_uri": "https://localhost:8080/"
        }
      },
      "source": [
        "list(range(-3,20,4)) #ตัวที่ 3 เป็น step"
      ],
      "execution_count": 6,
      "outputs": [
        {
          "output_type": "execute_result",
          "data": {
            "text/plain": [
              "[-3, 1, 5, 9, 13, 17]"
            ]
          },
          "metadata": {},
          "execution_count": 6
        }
      ]
    },
    {
      "cell_type": "markdown",
      "source": [
        "## วนลูปโดยสนใจทั้งสมาชิกและลำดับ"
      ],
      "metadata": {
        "id": "va-t3tlV_-_U"
      }
    },
    {
      "cell_type": "code",
      "source": [
        "index = 0\n",
        "for i in 'Thanapong' :\n",
        "    print(f'สมาชิกคือ {i} เป็นลำดับที่ {index}')\n",
        "    index += 1"
      ],
      "metadata": {
        "colab": {
          "base_uri": "https://localhost:8080/"
        },
        "id": "G5ynjKbKAVal",
        "outputId": "08ba67a4-e430-44dc-86c0-3759da56507e"
      },
      "execution_count": 7,
      "outputs": [
        {
          "output_type": "stream",
          "name": "stdout",
          "text": [
            "สมาชิกคือ T เป็นลำดับที่ 0\n",
            "สมาชิกคือ h เป็นลำดับที่ 1\n",
            "สมาชิกคือ a เป็นลำดับที่ 2\n",
            "สมาชิกคือ n เป็นลำดับที่ 3\n",
            "สมาชิกคือ a เป็นลำดับที่ 4\n",
            "สมาชิกคือ p เป็นลำดับที่ 5\n",
            "สมาชิกคือ o เป็นลำดับที่ 6\n",
            "สมาชิกคือ n เป็นลำดับที่ 7\n",
            "สมาชิกคือ g เป็นลำดับที่ 8\n"
          ]
        }
      ]
    },
    {
      "cell_type": "code",
      "source": [
        "#เขียนแบบ python\n",
        "for index, i in enumerate('Thanapong') :\n",
        "    print(f'สมาชิกคือ {i} เป็นลำดับที่ {index}')"
      ],
      "metadata": {
        "colab": {
          "base_uri": "https://localhost:8080/"
        },
        "id": "rchIafnQA5Ge",
        "outputId": "6baf5e5f-ebdb-4707-8fd2-44fd61618bb7"
      },
      "execution_count": 9,
      "outputs": [
        {
          "output_type": "stream",
          "name": "stdout",
          "text": [
            "สมาชิกคือ T เป็นลำดับที่ 0\n",
            "สมาชิกคือ h เป็นลำดับที่ 1\n",
            "สมาชิกคือ a เป็นลำดับที่ 2\n",
            "สมาชิกคือ n เป็นลำดับที่ 3\n",
            "สมาชิกคือ a เป็นลำดับที่ 4\n",
            "สมาชิกคือ p เป็นลำดับที่ 5\n",
            "สมาชิกคือ o เป็นลำดับที่ 6\n",
            "สมาชิกคือ n เป็นลำดับที่ 7\n",
            "สมาชิกคือ g เป็นลำดับที่ 8\n"
          ]
        }
      ]
    },
    {
      "cell_type": "markdown",
      "metadata": {
        "id": "vPcR4tJebPqi"
      },
      "source": [
        "### loop in loop\n",
        "#### สามารถใช้ for loop ซ้อนกันสองรอบได้¶"
      ]
    },
    {
      "cell_type": "code",
      "metadata": {
        "id": "TKRcpd5DbPqi",
        "outputId": "31fbd5eb-a8b7-4495-e646-a33a55d63224",
        "colab": {
          "base_uri": "https://localhost:8080/"
        }
      },
      "source": [
        "for name1 in  range(2,5): #(2, 3, 4)\n",
        "    print(f'now name1 = {name1}')\n",
        "    for name2 in  range(1,13):\n",
        "        print('  ', name1,' x ',name2,' = ',name1*name2)\n",
        "    print('the inner loop is end')"
      ],
      "execution_count": 10,
      "outputs": [
        {
          "output_type": "stream",
          "name": "stdout",
          "text": [
            "now name1 = 2\n",
            "   2  x  1  =  2\n",
            "   2  x  2  =  4\n",
            "   2  x  3  =  6\n",
            "   2  x  4  =  8\n",
            "   2  x  5  =  10\n",
            "   2  x  6  =  12\n",
            "   2  x  7  =  14\n",
            "   2  x  8  =  16\n",
            "   2  x  9  =  18\n",
            "   2  x  10  =  20\n",
            "   2  x  11  =  22\n",
            "   2  x  12  =  24\n",
            "the inner loop is end\n",
            "now name1 = 3\n",
            "   3  x  1  =  3\n",
            "   3  x  2  =  6\n",
            "   3  x  3  =  9\n",
            "   3  x  4  =  12\n",
            "   3  x  5  =  15\n",
            "   3  x  6  =  18\n",
            "   3  x  7  =  21\n",
            "   3  x  8  =  24\n",
            "   3  x  9  =  27\n",
            "   3  x  10  =  30\n",
            "   3  x  11  =  33\n",
            "   3  x  12  =  36\n",
            "the inner loop is end\n",
            "now name1 = 4\n",
            "   4  x  1  =  4\n",
            "   4  x  2  =  8\n",
            "   4  x  3  =  12\n",
            "   4  x  4  =  16\n",
            "   4  x  5  =  20\n",
            "   4  x  6  =  24\n",
            "   4  x  7  =  28\n",
            "   4  x  8  =  32\n",
            "   4  x  9  =  36\n",
            "   4  x  10  =  40\n",
            "   4  x  11  =  44\n",
            "   4  x  12  =  48\n",
            "the inner loop is end\n"
          ]
        }
      ]
    },
    {
      "cell_type": "markdown",
      "source": [
        "# Quiz 7 วนลูป แสดงค่า ตัวเลขออกมาเป็นสามเหลี่ยม ตามตัวอย่างนี้\n",
        "\n",
        "ex:\n",
        "\n",
        "1\n",
        "\n",
        "2 4\n",
        "\n",
        "3 6 9\n",
        "\n",
        "4 8 12 16\n",
        "\n",
        "5 10 15 20 25"
      ],
      "metadata": {
        "id": "ZYuSjF1DCmAC"
      }
    },
    {
      "cell_type": "code",
      "source": [
        "# prompt: สร้างวนลูป แสดงค่า ตัวเลขออกมาเป็นสามเหลี่ยม\n",
        "\n",
        "for i in range(1, 6):\n",
        "    for j in range(1, i + 1):\n",
        "        print(i * j, end=' ')\n",
        "    print()"
      ],
      "metadata": {
        "colab": {
          "base_uri": "https://localhost:8080/"
        },
        "id": "P7ZjVpYMCZPZ",
        "outputId": "1b90dad7-9ff3-4411-d0f0-e879ea99659d"
      },
      "execution_count": 11,
      "outputs": [
        {
          "output_type": "stream",
          "name": "stdout",
          "text": [
            "1 \n",
            "2 4 \n",
            "3 6 9 \n",
            "4 8 12 16 \n",
            "5 10 15 20 25 \n"
          ]
        }
      ]
    },
    {
      "cell_type": "markdown",
      "metadata": {
        "id": "7-FAZit8bPqi"
      },
      "source": [
        "### loop in function\n",
        "#### การวนลูปในฟังก์ชั่น¶"
      ]
    },
    {
      "cell_type": "code",
      "metadata": {
        "id": "S0r5yhbDbPqi"
      },
      "source": [
        "def print_feelings(I,friendS,feeling = 'คิดถึง'):\n",
        "    for friend in friendS:\n",
        "        print(f'{I} {feeling} {friend}')"
      ],
      "execution_count": 12,
      "outputs": []
    },
    {
      "cell_type": "code",
      "metadata": {
        "id": "_oVKj4SRfGS6"
      },
      "source": [
        "list_friends = ['เหมียว','พี่ส้ม','แตงโม','น้องหมา','พี่น้องอุ่น','ผัดไทย']"
      ],
      "execution_count": 13,
      "outputs": []
    },
    {
      "cell_type": "code",
      "metadata": {
        "id": "RepVZqu6bPqi",
        "outputId": "84167819-9023-4ea8-e1c4-0554db5d6dff",
        "colab": {
          "base_uri": "https://localhost:8080/"
        }
      },
      "source": [
        "print_feelings('น้องริน',list_friends)"
      ],
      "execution_count": 14,
      "outputs": [
        {
          "output_type": "stream",
          "name": "stdout",
          "text": [
            "น้องริน คิดถึง เหมียว\n",
            "น้องริน คิดถึง พี่ส้ม\n",
            "น้องริน คิดถึง แตงโม\n",
            "น้องริน คิดถึง น้องหมา\n",
            "น้องริน คิดถึง พี่น้องอุ่น\n",
            "น้องริน คิดถึง ผัดไทย\n"
          ]
        }
      ]
    },
    {
      "cell_type": "code",
      "source": [
        "print_feelings('น้องริน', 'น้องหมา')"
      ],
      "metadata": {
        "colab": {
          "base_uri": "https://localhost:8080/"
        },
        "id": "6tt8rjYJHUYN",
        "outputId": "eb9de1c9-128e-4391-d3d9-b585014a21ac"
      },
      "execution_count": 15,
      "outputs": [
        {
          "output_type": "stream",
          "name": "stdout",
          "text": [
            "น้องริน คิดถึง น\n",
            "น้องริน คิดถึง ้\n",
            "น้องริน คิดถึง อ\n",
            "น้องริน คิดถึง ง\n",
            "น้องริน คิดถึง ห\n",
            "น้องริน คิดถึง ม\n",
            "น้องริน คิดถึง า\n"
          ]
        }
      ]
    },
    {
      "cell_type": "code",
      "metadata": {
        "id": "P20pDnVaf2vK",
        "outputId": "13c1933c-99de-4d4e-ca4e-fae561ff016e",
        "colab": {
          "base_uri": "https://localhost:8080/"
        }
      },
      "source": [
        "print_feelings('น้องริน',list_friends,feeling='ไม่ชอบ')"
      ],
      "execution_count": 16,
      "outputs": [
        {
          "output_type": "stream",
          "name": "stdout",
          "text": [
            "น้องริน ไม่ชอบ เหมียว\n",
            "น้องริน ไม่ชอบ พี่ส้ม\n",
            "น้องริน ไม่ชอบ แตงโม\n",
            "น้องริน ไม่ชอบ น้องหมา\n",
            "น้องริน ไม่ชอบ พี่น้องอุ่น\n",
            "น้องริน ไม่ชอบ ผัดไทย\n"
          ]
        }
      ]
    },
    {
      "cell_type": "markdown",
      "source": [
        "[สำหรับดูโน้ต](https://nbviewer.org/)"
      ],
      "metadata": {
        "id": "GJAB4hnvnAX8"
      }
    },
    {
      "cell_type": "markdown",
      "source": [
        "## Dictionary (Data Structure)\n",
        "\n",
        "โครงสร้างข้อมูลที่จัดเก็บข้อมูลโดยการอ้างอิงโดย text\n",
        "\n",
        "วงเล็บ ```{``` ```}``` Curly Brackets"
      ],
      "metadata": {
        "id": "VreW55vmVRcb"
      }
    },
    {
      "cell_type": "code",
      "source": [
        "Ex_dict_A = {'memberA':[1,2,3],'memberB':8,'memberC':'abc'}"
      ],
      "metadata": {
        "id": "i-oH98ilV1RV"
      },
      "execution_count": null,
      "outputs": []
    },
    {
      "cell_type": "code",
      "source": [
        "Ex_dict_A"
      ],
      "metadata": {
        "colab": {
          "base_uri": "https://localhost:8080/"
        },
        "id": "kIwdnWuqWr58",
        "outputId": "694d94ad-5ac6-47a8-e6d6-01f62d578d9b"
      },
      "execution_count": null,
      "outputs": [
        {
          "output_type": "execute_result",
          "data": {
            "text/plain": [
              "{'memberA': [1, 2, 3], 'memberB': 8, 'memberC': 'abc'}"
            ]
          },
          "metadata": {},
          "execution_count": 2
        }
      ]
    },
    {
      "cell_type": "code",
      "source": [
        "Ex_dict_A['memberA']"
      ],
      "metadata": {
        "colab": {
          "base_uri": "https://localhost:8080/"
        },
        "id": "J4yy6oaXW4he",
        "outputId": "153013bf-f9bd-4cd9-a182-bf13744d02c7"
      },
      "execution_count": null,
      "outputs": [
        {
          "output_type": "execute_result",
          "data": {
            "text/plain": [
              "[1, 2, 3]"
            ]
          },
          "metadata": {},
          "execution_count": 5
        }
      ]
    },
    {
      "cell_type": "code",
      "source": [
        "Ex_dict_A['memberA'][1]"
      ],
      "metadata": {
        "colab": {
          "base_uri": "https://localhost:8080/"
        },
        "id": "cZjtUbdnXZK-",
        "outputId": "0eaa0d49-1a2a-41d6-bb62-7c3252df977f"
      },
      "execution_count": null,
      "outputs": [
        {
          "output_type": "execute_result",
          "data": {
            "text/plain": [
              "2"
            ]
          },
          "metadata": {},
          "execution_count": 6
        }
      ]
    },
    {
      "cell_type": "markdown",
      "metadata": {
        "id": "vwK7RmRJbPqj"
      },
      "source": [
        "## looping in dict\n",
        "#### ทำการวนลูปในค่า dict โดยที่เรากำหนดตัว key และvalueขึ้นมา ได้ดังนี้\n"
      ]
    },
    {
      "cell_type": "code",
      "metadata": {
        "id": "HI0F-4HobPqj",
        "outputId": "55b5963e-d615-48c9-ed76-9726a01e52e3",
        "colab": {
          "base_uri": "https://localhost:8080/"
        }
      },
      "source": [
        "name_grade = {'พันทิพา' : 'B','ศุภนิตา' : 'C','ปนัดดา' : 'A','ทรงกลด' : 'F'}\n",
        "name_grade"
      ],
      "execution_count": 17,
      "outputs": [
        {
          "output_type": "execute_result",
          "data": {
            "text/plain": [
              "{'พันทิพา': 'B', 'ศุภนิตา': 'C', 'ปนัดดา': 'A', 'ทรงกลด': 'F'}"
            ]
          },
          "metadata": {},
          "execution_count": 17
        }
      ]
    },
    {
      "cell_type": "code",
      "metadata": {
        "id": "jWf8aBmpbPqj",
        "outputId": "45c20d83-a334-4f0b-ee7a-9f4322f14bc6",
        "colab": {
          "base_uri": "https://localhost:8080/",
          "height": 35
        }
      },
      "source": [
        "name_grade['ปนัดดา']"
      ],
      "execution_count": 18,
      "outputs": [
        {
          "output_type": "execute_result",
          "data": {
            "text/plain": [
              "'A'"
            ],
            "application/vnd.google.colaboratory.intrinsic+json": {
              "type": "string"
            }
          },
          "metadata": {},
          "execution_count": 18
        }
      ]
    },
    {
      "cell_type": "code",
      "source": [
        "name_grade.keys()"
      ],
      "metadata": {
        "colab": {
          "base_uri": "https://localhost:8080/"
        },
        "id": "0tXZc6kgYPgm",
        "outputId": "702ff188-c920-4ba6-c746-3acbbdbd874e"
      },
      "execution_count": 19,
      "outputs": [
        {
          "output_type": "execute_result",
          "data": {
            "text/plain": [
              "dict_keys(['พันทิพา', 'ศุภนิตา', 'ปนัดดา', 'ทรงกลด'])"
            ]
          },
          "metadata": {},
          "execution_count": 19
        }
      ]
    },
    {
      "cell_type": "code",
      "source": [
        "name_grade.values()"
      ],
      "metadata": {
        "colab": {
          "base_uri": "https://localhost:8080/"
        },
        "id": "zEqstk33YRxp",
        "outputId": "a09f8d8d-64b1-49d8-e022-e03404317d7a"
      },
      "execution_count": 20,
      "outputs": [
        {
          "output_type": "execute_result",
          "data": {
            "text/plain": [
              "dict_values(['B', 'C', 'A', 'F'])"
            ]
          },
          "metadata": {},
          "execution_count": 20
        }
      ]
    },
    {
      "cell_type": "code",
      "metadata": {
        "scrolled": true,
        "id": "eDqhoebhbPqj",
        "outputId": "0b9217fe-9294-4666-a388-07f29c2ccd31",
        "colab": {
          "base_uri": "https://localhost:8080/"
        }
      },
      "source": [
        "for i in name_grade.keys():\n",
        "    print(i)"
      ],
      "execution_count": 21,
      "outputs": [
        {
          "output_type": "stream",
          "name": "stdout",
          "text": [
            "พันทิพา\n",
            "ศุภนิตา\n",
            "ปนัดดา\n",
            "ทรงกลด\n"
          ]
        }
      ]
    },
    {
      "cell_type": "code",
      "metadata": {
        "id": "Imvq4faObPqj",
        "outputId": "a13257bf-fb3b-4b02-87c7-66517c72e09a",
        "colab": {
          "base_uri": "https://localhost:8080/"
        }
      },
      "source": [
        "for i in name_grade.keys():\n",
        "    print(f'{i} ได้เกรด {name_grade[i]}')"
      ],
      "execution_count": 22,
      "outputs": [
        {
          "output_type": "stream",
          "name": "stdout",
          "text": [
            "พันทิพา ได้เกรด B\n",
            "ศุภนิตา ได้เกรด C\n",
            "ปนัดดา ได้เกรด A\n",
            "ทรงกลด ได้เกรด F\n"
          ]
        }
      ]
    },
    {
      "cell_type": "markdown",
      "source": [
        "## HW2 Example"
      ],
      "metadata": {
        "id": "CrnK1_WPaYv7"
      }
    },
    {
      "cell_type": "code",
      "source": [
        "time_list =  [\n",
        "    [\"18:09:10\", \"18:25:10\"],\n",
        "    [\"13:38:39\", \"23:54:39\"],\n",
        "    [\"16:49:58\", \"18:05:58\"],\n",
        "    [\"21:49:10\", \"22:24:10\"],\n",
        "    [\"08:52:21\", \"09:25:21\"],\n",
        "    [\"06:56:26\", \"07:49:26\"],\n",
        "    [\"12:08:05\", \"12:43:05\"],\n",
        "    [\"01:48:38\", \"07:18:38\"],\n",
        "    [\"08:51:21\", \"10:17:21\"],\n",
        "    [\"17:05:17\", \"18:09:17\"]]\n",
        "\n",
        "def time_to_second(time1,time2):\n",
        "    time1_list = time1.split(':')\n",
        "    time2_list = time2.split(':')\n",
        "    time1_sec = int(time1_list[0])*3600 + int(time1_list[1])*60 + int(time1_list[2])\n",
        "    time2_sec = int(time2_list[0])*3600 + int(time2_list[1])*60 + int(time2_list[2])\n",
        "    return(time2_sec - time1_sec)\n",
        "\n",
        "for time1,time2 in time_list:\n",
        "  diff_seconds = time_to_second(time1,time2)\n",
        "  print(f\"Time difference between {time1} - {time2} is {diff_seconds} seconds\")"
      ],
      "metadata": {
        "colab": {
          "base_uri": "https://localhost:8080/"
        },
        "id": "BqYhLFc5aYa2",
        "outputId": "825e1a7c-f359-44cc-9e02-160670dc983c"
      },
      "execution_count": null,
      "outputs": [
        {
          "output_type": "stream",
          "name": "stdout",
          "text": [
            "Time difference between 18:09:10 - 18:25:10 is 960 seconds\n",
            "Time difference between 13:38:39 - 23:54:39 is 36960 seconds\n",
            "Time difference between 16:49:58 - 18:05:58 is 4560 seconds\n",
            "Time difference between 21:49:10 - 22:24:10 is 2100 seconds\n",
            "Time difference between 08:52:21 - 09:25:21 is 1980 seconds\n",
            "Time difference between 06:56:26 - 07:49:26 is 3180 seconds\n",
            "Time difference between 12:08:05 - 12:43:05 is 2100 seconds\n",
            "Time difference between 01:48:38 - 07:18:38 is 19800 seconds\n",
            "Time difference between 08:51:21 - 10:17:21 is 5160 seconds\n",
            "Time difference between 17:05:17 - 18:09:17 is 3840 seconds\n"
          ]
        }
      ]
    },
    {
      "cell_type": "code",
      "source": [
        "time1 = \"18:09:10\"\n",
        "time2 = \"00:25:10\"\n",
        "diff_seconds = time_to_second(time1,time2)\n",
        "print(f\"Time difference between {time1} - {time2} is {diff_seconds} seconds\")"
      ],
      "metadata": {
        "colab": {
          "base_uri": "https://localhost:8080/"
        },
        "id": "lbz-CNPlbGYq",
        "outputId": "31befb8b-40ae-47b0-876d-a94e7ecfe760"
      },
      "execution_count": null,
      "outputs": [
        {
          "output_type": "stream",
          "name": "stdout",
          "text": [
            "Time difference between 18:09:10 - 00:25:10 is -63840 seconds\n"
          ]
        }
      ]
    },
    {
      "cell_type": "markdown",
      "source": [
        "# ตัวอย่าง Quiz 6"
      ],
      "metadata": {
        "id": "_JbcbweXQNQJ"
      }
    },
    {
      "cell_type": "code",
      "source": [
        "# prompt: สร้าง function คำนวณ จำนวน วินาที ที่แตกต่างระหว่าง input hh:mm:ss, day of the week 2 ค่า\n",
        "\n",
        "def time_to_sec(time_str):\n",
        "    time_list = time_str.split(':')\n",
        "    time_sec = int(time_list[0])*3600 + int(time_list[1])*60 + int(time_list[2])\n",
        "    return time_sec\n",
        "\n",
        "def total_seconds_with_day(time_str, day_str):\n",
        "    day_to_number = {\n",
        "        \"Monday\": 0,\n",
        "        \"Tuesday\": 1,\n",
        "        \"Wednesday\": 2,\n",
        "        \"Thursday\": 3,\n",
        "        \"Friday\": 4,\n",
        "        \"Saturday\": 5,\n",
        "        \"Sunday\": 6\n",
        "    }\n",
        "    seconds_in_day = time_to_sec(time_str)\n",
        "    day_number = day_to_number[day_str]\n",
        "    return day_number * 24 * 3600 + seconds_in_day\n",
        "\n",
        "def calculate_time_difference_day(time_range_str):\n",
        "    start_time_day_str, end_time_day_str = time_range_str.split(' - ')\n",
        "\n",
        "    # Extract time and day for start\n",
        "    start_parts = start_time_day_str.split(', ')\n",
        "    start_time = start_parts[0]\n",
        "    start_day = start_parts[1]\n",
        "\n",
        "    # Extract time and day for end\n",
        "    end_parts = end_time_day_str.split(', ')\n",
        "    end_time = end_parts[0]\n",
        "    end_day = end_parts[1]\n",
        "\n",
        "    start_total_sec = total_seconds_with_day(start_time, start_day)\n",
        "    end_total_sec = total_seconds_with_day(end_time, end_day)\n",
        "\n",
        "    # Handle cases where the end time is on a later day in the week\n",
        "    # If the end is earlier in the week than the start, assume it's the next week\n",
        "    if end_total_sec < start_total_sec:\n",
        "        end_total_sec += 7 * 24 * 3600\n",
        "\n",
        "    return end_total_sec - start_total_sec\n",
        "\n",
        "data_with_day = [\n",
        "    \"12:30:15, Wednesday - 13:41:07, Thursday\",\n",
        "    \"12:53:15, Monday - 00:59:25, Tuesday\",\n",
        "    \"16:06:09, Sunday - 11:11:11, Tuesday\"\n",
        "]\n",
        "\n",
        "for time_range in data_with_day:\n",
        "    difference_in_seconds = calculate_time_difference_day(time_range)\n",
        "    print(f\"เวลาที่คำนวณได้สำหรับ '{time_range}': {difference_in_seconds} วินาที\")"
      ],
      "metadata": {
        "colab": {
          "base_uri": "https://localhost:8080/"
        },
        "id": "WlXSyYHLQSeB",
        "outputId": "a865e71c-5bdc-45b2-cbdf-ab03de41da67"
      },
      "execution_count": 4,
      "outputs": [
        {
          "output_type": "stream",
          "name": "stdout",
          "text": [
            "เวลาที่คำนวณได้สำหรับ '12:30:15, Wednesday - 13:41:07, Thursday': 90652 วินาที\n",
            "เวลาที่คำนวณได้สำหรับ '12:53:15, Monday - 00:59:25, Tuesday': 43570 วินาที\n",
            "เวลาที่คำนวณได้สำหรับ '16:06:09, Sunday - 11:11:11, Tuesday': 155102 วินาที\n"
          ]
        }
      ]
    },
    {
      "cell_type": "code",
      "source": [
        "# prompt: สร้าง function คำนวณ จำนวน วินาที ที่แตกต่างระหว่าง input hh:mm:ss, day of the week 2 ค่า\n",
        "\n",
        "from datetime import datetime, timedelta\n",
        "\n",
        "def time_difference_in_seconds(time_str1, weekday1, time_str2, weekday2):\n",
        "  \"\"\"\n",
        "  คำนวณความแตกต่างของเวลาในหน่วยวินาทีระหว่างสองเวลาและวันในสัปดาห์\n",
        "\n",
        "  Args:\n",
        "    time_str1: สตริงเวลาในรูปแบบ 'hh:mm:ss' สำหรับเวลาแรก\n",
        "    weekday1: วันในสัปดาห์สำหรับเวลาแรก (0=วันจันทร์, 6=วันอาทิตย์)\n",
        "    time_str2: สตริงเวลาในรูปแบบ 'hh:mm:ss' สำหรับเวลาที่สอง\n",
        "    weekday2: วันในสัปดาห์สำหรับเวลาที่สอง (0=วันจันทร์, 6=วันอาทิตย์)\n",
        "\n",
        "  Returns:\n",
        "    จำนวนวินาทีที่แตกต่างกัน\n",
        "  \"\"\"\n",
        "  day = {'Monday':0, 'Tuesday':1, 'Wednesday':2, 'Thursday':3, 'Friday':4, 'Saturday':5, 'Sunday':6}\n",
        "  # Mapping weekdays to a common reference point (e.g., seconds from the beginning of the week)\n",
        "  seconds_per_day = 24 * 3600\n",
        "\n",
        "  def parse_time_and_weekday(time_str, weekday):\n",
        "    h, m, s = map(int, time_str.split(':'))\n",
        "    # Calculate total seconds from the beginning of the week\n",
        "    total_seconds = weekday * seconds_per_day + h * 3600 + m * 60 + s\n",
        "    return total_seconds\n",
        "\n",
        "  total_seconds1 = parse_time_and_weekday(time_str1, day[weekday1])\n",
        "  total_seconds2 = parse_time_and_weekday(time_str2, day[weekday2])\n",
        "\n",
        "  return abs(total_seconds1 - total_seconds2)\n",
        "\n",
        "# Example usage:\n",
        "time1 = \"10:00:00\"\n",
        "day1 = 'Tuesday'\n",
        "time2 = \"11:30:00\"\n",
        "day2 = 'Thursday'\n",
        "\n",
        "diff_seconds = time_difference_in_seconds(time1, day1, time2, day2)\n",
        "print(f\"ความแตกต่างของเวลาระหว่าง {time1} วัน {day1} และ {time2} วัน {day2} คือ {diff_seconds} วินาที\")\n",
        "\n",
        "time3 = \"23:00:00\"\n",
        "day3 = 'Sunday'\n",
        "time4 = \"01:00:00\"\n",
        "day4 = 'Monday'\n",
        "\n",
        "diff_seconds2 = time_difference_in_seconds(time3, day3, time4, day4)\n",
        "print(f\"ความแตกต่างของเวลาระหว่าง {time3} วัน {day3} และ {time4} วัน {day4} คือ {diff_seconds2} วินาที\")"
      ],
      "metadata": {
        "colab": {
          "base_uri": "https://localhost:8080/"
        },
        "id": "8j9MrTbdQa-5",
        "outputId": "f565ffc3-198f-4d01-93cb-85678bfe00dc"
      },
      "execution_count": 1,
      "outputs": [
        {
          "output_type": "stream",
          "name": "stdout",
          "text": [
            "ความแตกต่างของเวลาระหว่าง 10:00:00 วัน Tuesday และ 11:30:00 วัน Thursday คือ 178200 วินาที\n",
            "ความแตกต่างของเวลาระหว่าง 23:00:00 วัน Sunday และ 01:00:00 วัน Monday คือ 597600 วินาที\n"
          ]
        }
      ]
    },
    {
      "cell_type": "code",
      "source": [
        "# prompt: สร้าง function คำนวณ จำนวน วินาที ที่แตกต่างระหว่าง input hh:mm:ss, day of the week 2 ค่า\n",
        "\n",
        "from datetime import datetime, timedelta\n",
        "\n",
        "def time_difference_in_seconds(time_str1, weekday1, time_str2, weekday2=None):\n",
        "  \"\"\"\n",
        "  คำนวณความแตกต่างของเวลาในหน่วยวินาทีระหว่างสองเวลาและวันในสัปดาห์\n",
        "\n",
        "  Args:\n",
        "    time_str1: สตริงเวลาในรูปแบบ 'hh:mm:ss' สำหรับเวลาแรก\n",
        "    weekday1: วันในสัปดาห์สำหรับเวลาแรก (0=วันจันทร์, 6=วันอาทิตย์)\n",
        "    time_str2: สตริงเวลาในรูปแบบ 'hh:mm:ss' สำหรับเวลาที่สอง\n",
        "    weekday2: วันในสัปดาห์สำหรับเวลาที่สอง (0=วันจันทร์, 6=วันอาทิตย์)\n",
        "\n",
        "  Returns:\n",
        "    จำนวนวินาทีที่แตกต่างกัน\n",
        "  \"\"\"\n",
        "  day = {'Monday':0, 'Tuesday':1, 'Wednesday':2, 'Thursday':3, 'Friday':4, 'Saturday':5, 'Sunday':6}\n",
        "  # Mapping weekdays to a common reference point (e.g., seconds from the beginning of the week)\n",
        "  seconds_per_day = 24 * 3600\n",
        "\n",
        "  def parse_time_and_weekday(time_str, weekday):\n",
        "    h, m, s = map(int, time_str.split(':'))\n",
        "    # Calculate total seconds from the beginning of the week\n",
        "    total_seconds = weekday * seconds_per_day + h * 3600 + m * 60 + s\n",
        "    return total_seconds\n",
        "  if weekday2 is None:\n",
        "    weekday2 = weekday1\n",
        "  total_seconds1 = parse_time_and_weekday(time_str1, day[weekday1])\n",
        "  total_seconds2 = parse_time_and_weekday(time_str2, day[weekday2])\n",
        "\n",
        "  return abs(total_seconds1 - total_seconds2)\n",
        "\n",
        "# Example usage:\n",
        "time1 = \"10:00:00\"\n",
        "day1 = 'Tuesday'\n",
        "time2 = \"11:30:00\"\n",
        "day2 = 'Thursday'\n",
        "\n",
        "diff_seconds = time_difference_in_seconds(time1, day1, time2, day2)\n",
        "print(f\"ความแตกต่างของเวลาระหว่าง {time1} วัน {day1} และ {time2} วัน {day2} คือ {diff_seconds} วินาที\")\n",
        "\n",
        "time3 = \"18:00:00\"\n",
        "day3 = 'Sunday'\n",
        "time4 = \"23:45:00\"\n",
        "\n",
        "diff_seconds2 = time_difference_in_seconds(time3, day3, time4)\n",
        "print(f\"ความแตกต่างของเวลาระหว่าง {time3} วัน {day3} และ {time4} คือ {diff_seconds2} วินาที\")"
      ],
      "metadata": {
        "colab": {
          "base_uri": "https://localhost:8080/"
        },
        "id": "XHTx39AyQc_x",
        "outputId": "8c79258a-beb5-4373-9fcb-4d5752aa93ce"
      },
      "execution_count": 2,
      "outputs": [
        {
          "output_type": "stream",
          "name": "stdout",
          "text": [
            "ความแตกต่างของเวลาระหว่าง 10:00:00 วัน Tuesday และ 11:30:00 วัน Thursday คือ 178200 วินาที\n",
            "ความแตกต่างของเวลาระหว่าง 18:00:00 วัน Sunday และ 23:45:00 คือ 20700 วินาที\n"
          ]
        }
      ]
    },
    {
      "cell_type": "markdown",
      "source": [
        " #  HW3 เพิ่ม loop เข้าไปใน Quiz 6 โดยวนลูป คำนวณ วินาที ในโจทย์ ต่อไปนี้\n",
        "\n",
        "[\n",
        "    \n",
        "    (\"10:00:00\", \"Monday\", \"11:30:00\", 5400),  # Same day, later time\n",
        "\n",
        "    (\"11:30:00\", \"Monday\", \"10:00:00\", \"Monday\", 5400),  # Same day, earlier time\n",
        "\n",
        "    (\"23:00:00\", \"Sunday\", \"01:00:00\", , 7200),  # Cross midnight\n",
        "\n",
        "    (\"01:00:00\", \"Monday\", \"23:00:00\", \"Sunday\", 7200),  # Cross midnight (reverse)\n",
        "\n",
        "    (\"10:00:00\", \"Tuesday\", \"11:30:00\", \"Thursday\", 178200), # Multiple days difference\n",
        "\n",
        "    (\"11:30:00\", \"Thursday\", \"10:00:00\", \"Tuesday\", 178200), # Multiple days difference (reverse)\n",
        "\n",
        "    (\"12:00:00\", \"Monday\", \"12:00:00\", \"Monday\", 0),      # Same time, same day\n",
        "\n",
        "    (\"12:00:00\", \"Monday\", \"12:00:00\", \"Tuesday\", 24*3600), # Same time, next day\n",
        "\n",
        "    (\"00:00:00\", \"Monday\", \"23:59:59\", , 24*3600 - 1), # Almost 24 hours later\n",
        "\n",
        "    (\"23:59:59\", \"Sunday\", \"00:00:00\", \"Monday\", 1),       # One second difference across midnight\n",
        "]"
      ],
      "metadata": {
        "id": "t7eDmYQASs6B"
      }
    },
    {
      "cell_type": "code",
      "source": [
        "from datetime import datetime\n",
        "\n",
        "def time_difference_in_seconds(time_str1, weekday1, time_str2, weekday2=None):\n",
        "    day = {'Monday':0, 'Tuesday':1, 'Wednesday':2, 'Thursday':3, 'Friday':4, 'Saturday':5, 'Sunday':6}\n",
        "    seconds_per_day = 24 * 3600\n",
        "\n",
        "    def parse_time_and_weekday(time_str, weekday):\n",
        "        h, m, s = map(int, time_str.split(':'))\n",
        "        total_seconds = day[weekday] * seconds_per_day + h * 3600 + m * 60 + s\n",
        "        return total_seconds\n",
        "\n",
        "    if weekday2 is None:\n",
        "        weekday2 = weekday1\n",
        "\n",
        "    total_seconds1 = parse_time_and_weekday(time_str1, weekday1)\n",
        "    total_seconds2 = parse_time_and_weekday(time_str2, weekday2)\n",
        "\n",
        "    return abs(total_seconds1 - total_seconds2)\n",
        "\n",
        "\n",
        "data = [\n",
        "(\"10:00:00\", \"Monday\", \"11:30:00\", \"Monday\", 5400),  # Same day, later time\n",
        "(\"11:30:00\", \"Monday\", \"10:00:00\", \"Monday\", 5400),  # Same day, earlier time\n",
        "(\"23:00:00\", \"Sunday\", \"01:00:00\", \"Monday\", 7200),  # Cross midnight\n",
        "(\"01:00:00\", \"Monday\", \"23:00:00\", \"Sunday\", 7200),  # Cross midnight (reverse)\n",
        "(\"10:00:00\", \"Tuesday\", \"11:30:00\", \"Thursday\", 178200), # Multiple days difference\n",
        "(\"11:30:00\", \"Thursday\", \"10:00:00\", \"Tuesday\", 178200), # Multiple days difference (reverse)\n",
        "(\"12:00:00\", \"Monday\", \"12:00:00\", \"Monday\", 0),      # Same time, same day\n",
        "(\"12:00:00\", \"Monday\", \"12:00:00\", \"Tuesday\", 24*3600), # Same time, next day\n",
        "(\"00:00:00\", \"Monday\", \"23:59:59\", \"Monday\", 24*3600 - 1), # Almost 24 hours later\n",
        "(\"23:59:59\", \"Sunday\", \"00:00:00\", \"Monday\", 1),       # One second difference across midnight\n",
        "]\n",
        "\n",
        "for time_str1, weekday1, time_str2, weekday2, expected_result in data:\n",
        "    result = time_difference_in_seconds(time_str1, weekday1, time_str2, weekday2)\n",
        "    print(f\"เวลาที่ 1: {time_str1} {weekday1} และ เวลาที่ 2: {time_str2} {weekday2}\")\n",
        "    print(f\"ความแตกต่างของเวลาที่คำนวณได้: {result} วินาที\")"
      ],
      "metadata": {
        "colab": {
          "base_uri": "https://localhost:8080/"
        },
        "id": "O64rW9x6Q9wV",
        "outputId": "33f0d506-87b7-4005-d388-9ee2d2ac6dfe"
      },
      "execution_count": 16,
      "outputs": [
        {
          "output_type": "stream",
          "name": "stdout",
          "text": [
            "เวลาที่ 1: 10:00:00 Monday และ เวลาที่ 2: 11:30:00 Monday\n",
            "ความแตกต่างของเวลาที่คำนวณได้: 5400 วินาที\n",
            "เวลาที่ 1: 11:30:00 Monday และ เวลาที่ 2: 10:00:00 Monday\n",
            "ความแตกต่างของเวลาที่คำนวณได้: 5400 วินาที\n",
            "เวลาที่ 1: 23:00:00 Sunday และ เวลาที่ 2: 01:00:00 Monday\n",
            "ความแตกต่างของเวลาที่คำนวณได้: 597600 วินาที\n",
            "เวลาที่ 1: 01:00:00 Monday และ เวลาที่ 2: 23:00:00 Sunday\n",
            "ความแตกต่างของเวลาที่คำนวณได้: 597600 วินาที\n",
            "เวลาที่ 1: 10:00:00 Tuesday และ เวลาที่ 2: 11:30:00 Thursday\n",
            "ความแตกต่างของเวลาที่คำนวณได้: 178200 วินาที\n",
            "เวลาที่ 1: 11:30:00 Thursday และ เวลาที่ 2: 10:00:00 Tuesday\n",
            "ความแตกต่างของเวลาที่คำนวณได้: 178200 วินาที\n",
            "เวลาที่ 1: 12:00:00 Monday และ เวลาที่ 2: 12:00:00 Monday\n",
            "ความแตกต่างของเวลาที่คำนวณได้: 0 วินาที\n",
            "เวลาที่ 1: 12:00:00 Monday และ เวลาที่ 2: 12:00:00 Tuesday\n",
            "ความแตกต่างของเวลาที่คำนวณได้: 86400 วินาที\n",
            "เวลาที่ 1: 00:00:00 Monday และ เวลาที่ 2: 23:59:59 Monday\n",
            "ความแตกต่างของเวลาที่คำนวณได้: 86399 วินาที\n",
            "เวลาที่ 1: 23:59:59 Sunday และ เวลาที่ 2: 00:00:00 Monday\n",
            "ความแตกต่างของเวลาที่คำนวณได้: 604799 วินาที\n"
          ]
        }
      ]
    },
    {
      "cell_type": "code",
      "source": [
        "# prompt: สร้างฟังก์ชันที่มีการคำนวณเวลาเป็นวินาทีและใส่การใช้ลูปเข้าไปด้วย\n",
        "\n",
        "def time_difference_in_seconds_with_loop(data):\n",
        "  \"\"\"\n",
        "  คำนวณความแตกต่างของเวลาในหน่วยวินาทีสำหรับรายการข้อมูลที่กำหนด\n",
        "\n",
        "  Args:\n",
        "    data: ลิสต์ของทูเพิล แต่ละทูเพิลประกอบด้วย (เวลา1, วัน1, เวลา2, วัน2 (optional), ผลลัพธ์ที่คาดหวัง (optional))\n",
        "  \"\"\"\n",
        "  day = {'Monday':0, 'Tuesday':1, 'Wednesday':2, 'Thursday':3, 'Friday':4, 'Saturday':5, 'Sunday':6}\n",
        "  seconds_per_day = 24 * 3600\n",
        "\n",
        "  def parse_time_and_weekday(time_str, weekday):\n",
        "    h, m, s = map(int, time_str.split(':'))\n",
        "    total_seconds = day[weekday] * seconds_per_day + h * 3600 + m * 60 + s\n",
        "    return total_seconds\n",
        "\n",
        "  for entry in data:\n",
        "    time_str1 = entry[0]\n",
        "    weekday1 = entry[1]\n",
        "    time_str2 = entry[2]\n",
        "\n",
        "    if len(entry) > 3 and isinstance(entry[3], str):\n",
        "        weekday2 = entry[3]\n",
        "        expected_result = entry[4] if len(entry) > 4 else None\n",
        "    else:\n",
        "        weekday2 = weekday1 # Set default weekday2 if not provided\n",
        "        expected_result = entry[3] if len(entry) > 3 else None\n",
        "\n",
        "    total_seconds1 = parse_time_and_weekday(time_str1, weekday1)\n",
        "    total_seconds2 = parse_time_and_weekday(time_str2, weekday2)\n",
        "\n",
        "    diff_seconds = abs(total_seconds1 - total_seconds2)\n",
        "\n",
        "    print(f\"เวลาที่ 1: {time_str1} {weekday1} และ เวลาที่ 2: {time_str2} {weekday2}\")\n",
        "    print(f\"มีความแตกต่างของเวลาคือ: {diff_seconds} วินาที\")\n",
        "\n",
        "data_for_loop = [\n",
        "    (\"10:00:00\", \"Monday\", \"11:30:00\", \"Monday\", 5400),  # Same day, later time\n",
        "    (\"11:30:00\", \"Monday\", \"10:00:00\", \"Monday\", 5400),  # Same day, earlier time\n",
        "    (\"23:00:00\", \"Sunday\", \"01:00:00\", \"Monday\", 7200),  # Cross midnight\n",
        "    (\"01:00:00\", \"Monday\", \"23:00:00\", \"Sunday\", 7200),  # Cross midnight (reverse)\n",
        "    (\"10:00:00\", \"Tuesday\", \"11:30:00\", \"Thursday\", 178200), # Multiple days difference\n",
        "    (\"11:30:00\", \"Thursday\", \"10:00:00\", \"Tuesday\", 178200), # Multiple days difference (reverse)\n",
        "    (\"12:00:00\", \"Monday\", \"12:00:00\", \"Monday\", 0),      # Same time, same day\n",
        "    (\"12:00:00\", \"Monday\", \"12:00:00\", \"Tuesday\", 24*3600), # Same time, next day\n",
        "    (\"00:00:00\", \"Monday\", \"23:59:59\", \"Monday\", 24*3600 - 1), # Almost 24 hours later\n",
        "    (\"23:59:59\", \"Sunday\", \"00:00:00\", \"Monday\", 1),       # One second difference across midnight\n",
        "]\n",
        "\n",
        "time_difference_in_seconds_with_loop(data_for_loop)"
      ],
      "metadata": {
        "colab": {
          "base_uri": "https://localhost:8080/"
        },
        "id": "4Wbuoc9jUmFy",
        "outputId": "484209fa-22d0-4958-9936-ba992e197f52"
      },
      "execution_count": 11,
      "outputs": [
        {
          "output_type": "stream",
          "name": "stdout",
          "text": [
            "เวลาที่ 1: 10:00:00 Monday และ เวลาที่ 2: 11:30:00 Monday\n",
            "มีความแตกต่างของเวลาคือ: 5400 วินาที\n",
            "เวลาที่ 1: 11:30:00 Monday และ เวลาที่ 2: 10:00:00 Monday\n",
            "มีความแตกต่างของเวลาคือ: 5400 วินาที\n",
            "เวลาที่ 1: 23:00:00 Sunday และ เวลาที่ 2: 01:00:00 Monday\n",
            "มีความแตกต่างของเวลาคือ: 597600 วินาที\n",
            "เวลาที่ 1: 01:00:00 Monday และ เวลาที่ 2: 23:00:00 Sunday\n",
            "มีความแตกต่างของเวลาคือ: 597600 วินาที\n",
            "เวลาที่ 1: 10:00:00 Tuesday และ เวลาที่ 2: 11:30:00 Thursday\n",
            "มีความแตกต่างของเวลาคือ: 178200 วินาที\n",
            "เวลาที่ 1: 11:30:00 Thursday และ เวลาที่ 2: 10:00:00 Tuesday\n",
            "มีความแตกต่างของเวลาคือ: 178200 วินาที\n",
            "เวลาที่ 1: 12:00:00 Monday และ เวลาที่ 2: 12:00:00 Monday\n",
            "มีความแตกต่างของเวลาคือ: 0 วินาที\n",
            "เวลาที่ 1: 12:00:00 Monday และ เวลาที่ 2: 12:00:00 Tuesday\n",
            "มีความแตกต่างของเวลาคือ: 86400 วินาที\n",
            "เวลาที่ 1: 00:00:00 Monday และ เวลาที่ 2: 23:59:59 Monday\n",
            "มีความแตกต่างของเวลาคือ: 86399 วินาที\n",
            "เวลาที่ 1: 23:59:59 Sunday และ เวลาที่ 2: 00:00:00 Monday\n",
            "มีความแตกต่างของเวลาคือ: 604799 วินาที\n"
          ]
        }
      ]
    },
    {
      "cell_type": "markdown",
      "metadata": {
        "id": "pLDGW8IobPqk"
      },
      "source": [
        "# Conditional statemet คือ ประโยคเงื่อนไข"
      ]
    },
    {
      "cell_type": "markdown",
      "source": [
        "ชนิดตัวแปรที่เกี่ยวข้อ Boolean (True,False)"
      ],
      "metadata": {
        "id": "TvK12jMwcVp8"
      }
    },
    {
      "cell_type": "code",
      "source": [
        "condition_1 = True\n",
        "condition_2 = False"
      ],
      "metadata": {
        "id": "JWxlKa-icUk6"
      },
      "execution_count": null,
      "outputs": []
    },
    {
      "cell_type": "markdown",
      "metadata": {
        "id": "8_-zCLkrbPqk"
      },
      "source": [
        "### การวนลูปโดยมีเงื่อนไขต่างๆมาเกี่ยวข้อง โดยมี pattern ดังนี้\n"
      ]
    },
    {
      "cell_type": "markdown",
      "metadata": {
        "id": "ZQuWb-bybPqk"
      },
      "source": [
        "```Python\n",
        "if condition1 :\n",
        "    do something\n",
        "elif condition2 :  #elif คือ else if\n",
        "    do another thing\n",
        "else:\n",
        "    do ...\n",
        "```\n",
        "    "
      ]
    },
    {
      "cell_type": "markdown",
      "metadata": {
        "id": "kUPdCRG7bPqk"
      },
      "source": [
        "## ==, !=,>=,<=,<,> Operator ของตัวเลข"
      ]
    },
    {
      "cell_type": "code",
      "source": [
        "def time_to_second(time1):\n",
        "    time1_list = time1.split(':')\n",
        "    time1_sec = int(time1_list[0])*3600 + int(time1_list[1])*60 + int(time1_list[2])\n",
        "    return time1_sec"
      ],
      "metadata": {
        "id": "9NIOIupSd_Zn"
      },
      "execution_count": null,
      "outputs": []
    },
    {
      "cell_type": "code",
      "source": [
        "time_list =  [\n",
        "    [\"18:09:10\", \"18:25:10\"],\n",
        "    [\"13:38:39\", \"23:54:39\"],[\"16:49:58\", \"18:05:58\"],\n",
        "    [\"21:49:10\", \"22:24:10\"],[\"08:52:21\", \"09:25:21\"],\n",
        "    [\"06:56:26\", \"07:49:26\"],[\"12:08:05\", \"12:43:05\"],\n",
        "    [\"01:48:38\", \"07:18:38\"],[\"08:51:21\", \"10:17:21\"],\n",
        "    [\"17:05:17\", \"18:09:17\"],[\"18:51:21\", \"00:17:21\"],\n",
        "    [\"17:05:17\", \"11:09:17\"],]"
      ],
      "metadata": {
        "id": "CYcYQJ45d8Wx"
      },
      "execution_count": null,
      "outputs": []
    },
    {
      "cell_type": "code",
      "source": [
        "for time1,time2 in time_list:\n",
        "\n",
        "    if time_to_second(time1) < time_to_second(time2): #ถ้า time1 น้อยกว่า time2\n",
        "        diff_seconds = time_to_second(time2) - time_to_second(time1)\n",
        "    else: #ถ้า time1 ไม่น้อยกว่า time2\n",
        "        diff_seconds = (time_to_second(time2)+(24*60*60)) - time_to_second(time1)\n",
        "\n",
        "    print(f\"Time difference between {time1} - {time2} is {diff_seconds} seconds\")"
      ],
      "metadata": {
        "colab": {
          "base_uri": "https://localhost:8080/"
        },
        "id": "sv-1il2_dmvv",
        "outputId": "50f45721-6ca1-4fc0-f786-ec748affb410"
      },
      "execution_count": null,
      "outputs": [
        {
          "output_type": "stream",
          "name": "stdout",
          "text": [
            "Time difference between 18:09:10 - 18:25:10 is 960 seconds\n",
            "Time difference between 13:38:39 - 23:54:39 is 36960 seconds\n",
            "Time difference between 16:49:58 - 18:05:58 is 4560 seconds\n",
            "Time difference between 21:49:10 - 22:24:10 is 2100 seconds\n",
            "Time difference between 08:52:21 - 09:25:21 is 1980 seconds\n",
            "Time difference between 06:56:26 - 07:49:26 is 3180 seconds\n",
            "Time difference between 12:08:05 - 12:43:05 is 2100 seconds\n",
            "Time difference between 01:48:38 - 07:18:38 is 19800 seconds\n",
            "Time difference between 08:51:21 - 10:17:21 is 5160 seconds\n",
            "Time difference between 17:05:17 - 18:09:17 is 3840 seconds\n",
            "Time difference between 18:51:21 - 00:17:21 is 19560 seconds\n",
            "Time difference between 17:05:17 - 11:09:17 is 65040 seconds\n"
          ]
        }
      ]
    },
    {
      "cell_type": "markdown",
      "source": [
        "# HW3 เพิ่ม ฟังก์ชั่นแปลงวินาทีกลับมาเป็น ชั่วโมง นาที วินาที โดยไม่ใช่ฟังก์ชั่นช่วยเหลืออื่นๆของ python (~~import~~) ถ้าส่วนของ ชั่วโมง นาที วินาที เป็นศูนย์ ไม่ต้องแสดง"
      ],
      "metadata": {
        "id": "JMvgwO7tgxSZ"
      }
    },
    {
      "cell_type": "markdown",
      "metadata": {
        "id": "sSySEFHNbPql"
      },
      "source": [
        "# HW 4\n",
        "#### เขียน function ตัดเกรด โดยที่ input เป็นคะแนน(0-100) , output เป็นเกรด (F-A)\n",
        "#### วนลูปตัดเกรด input = [1,50,65,90,101,-5,49]"
      ]
    },
    {
      "cell_type": "markdown",
      "metadata": {
        "id": "c3TDhZHzbPqm"
      },
      "source": [
        "##### กำหนด\n",
        "      ถ้าคะแนนอยู่ระหว่างมากกว่าหรือเท่ากับ  0  แต่น้อยกว่า 50 จะได้เกรด F\n",
        "      ถ้าคะแนนอยู่ระหว่างมากกว่าหรือเท่ากับ 50 แต่น้อยกว่า 55 จะได้เกรด D\n",
        "      ถ้าคะแนนอยู่ระหว่างมากกว่าหรือเท่ากับ 55 แต่น้อยกว่า 60 จะได้เกรด D+\n",
        "      ถ้าคะแนนอยู่ระหว่างมากกว่าหรือเท่ากับ 60 แต่น้อยกว่า 65 จะได้เกรด C\n",
        "      ถ้าคะแนนอยู่ระหว่างมากกว่าหรือเท่ากับ 65 แต่น้อยกว่า 70 จะได้เกรด C+\n",
        "      ถ้าคะแนนอยู่ระหว่างมากกว่าหรือเท่ากับ 70 แต่น้อยกว่า 75 จะได้เกรด B\n",
        "      ถ้าคะแนนอยู่ระหว่างมากกว่าหรือเท่ากับ 75 แต่น้อยกว่า 80 จะได้เกรด B+\n",
        "      ถ้าคะแนนอยู่ระหว่างมากกว่าหรือเท่ากับ 80  จะได้เกรด A\n",
        "      แต่ว่าค่าคะแนนจะต้องไม่ต่ำกว่า 0 และมากกว่า 100 ไม่งั้นจะเกิด error"
      ]
    },
    {
      "cell_type": "markdown",
      "source": [
        "## ```&```, ```|```, ```in```, ```is```   :  Operator อื่นๆ"
      ],
      "metadata": {
        "id": "HSMQXdmmipMp"
      }
    },
    {
      "cell_type": "code",
      "source": [
        "if (1>0) & (0>-1):\n",
        "    print(True & True)"
      ],
      "metadata": {
        "id": "ES5d1z0ti306",
        "outputId": "4bc178b2-a5d8-4476-e02c-c87ddd5b91ce",
        "colab": {
          "base_uri": "https://localhost:8080/"
        }
      },
      "execution_count": null,
      "outputs": [
        {
          "output_type": "stream",
          "name": "stdout",
          "text": [
            "True\n"
          ]
        }
      ]
    },
    {
      "cell_type": "code",
      "source": [
        "if 'T' in 'Thanapong':\n",
        "    print('T in Thanapong')"
      ],
      "metadata": {
        "id": "3COnyOTKipAc",
        "outputId": "d50e2919-9cbc-41fb-d20f-6e5a371ebba1",
        "colab": {
          "base_uri": "https://localhost:8080/"
        }
      },
      "execution_count": null,
      "outputs": [
        {
          "output_type": "stream",
          "name": "stdout",
          "text": [
            "T in Thanapong\n"
          ]
        }
      ]
    },
    {
      "cell_type": "code",
      "source": [
        "def return_nothing(x):\n",
        "    x = x+1"
      ],
      "metadata": {
        "id": "01N3TOG9k3ti"
      },
      "execution_count": null,
      "outputs": []
    },
    {
      "cell_type": "code",
      "source": [
        "a = return_nothing(5)"
      ],
      "metadata": {
        "id": "drWbuBwNldOL"
      },
      "execution_count": null,
      "outputs": []
    },
    {
      "cell_type": "code",
      "source": [
        "if a is None:\n",
        "    print('x is null')"
      ],
      "metadata": {
        "id": "pOj0pkEEkbuW",
        "outputId": "29d5bf18-d242-40f3-a542-26c39aa2fcca",
        "colab": {
          "base_uri": "https://localhost:8080/"
        }
      },
      "execution_count": null,
      "outputs": [
        {
          "output_type": "stream",
          "name": "stdout",
          "text": [
            "x is null\n"
          ]
        }
      ]
    },
    {
      "cell_type": "code",
      "source": [],
      "metadata": {
        "id": "y1ET-H8ylyxP"
      },
      "execution_count": null,
      "outputs": []
    },
    {
      "cell_type": "markdown",
      "metadata": {
        "id": "Bg3vVE3GbPqn"
      },
      "source": [
        "# Finish"
      ]
    }
  ]
}